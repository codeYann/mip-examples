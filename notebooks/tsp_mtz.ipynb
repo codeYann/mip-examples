{
 "cells": [
  {
   "cell_type": "markdown",
   "metadata": {},
   "source": [
    "## Importing mip"
   ]
  },
  {
   "cell_type": "code",
   "execution_count": 15,
   "metadata": {},
   "outputs": [],
   "source": [
    "from mip import Model, xsum, minimize, BINARY\n",
    "from itertools import product"
   ]
  },
  {
   "cell_type": "markdown",
   "metadata": {},
   "source": [
    "## Define the array of cities"
   ]
  },
  {
   "cell_type": "code",
   "execution_count": 16,
   "metadata": {},
   "outputs": [],
   "source": [
    "places = [\n",
    "    \"Antwerp\",\n",
    "    \"Bruges\",\n",
    "    \"C-Mine\",\n",
    "    \"Dinant\",\n",
    "    \"Ghent\",\n",
    "    \"Grand-Place de Bruxelles\",\n",
    "    \"Hasselt\",\n",
    "    \"Leuven\",\n",
    "    \"Mechelen\",\n",
    "    \"Mons\",\n",
    "    \"Montagne de Bueren\",\n",
    "    \"Namur\",\n",
    "    \"Remouchamps\",\n",
    "    \"Waterloo\",\n",
    "]"
   ]
  },
  {
   "cell_type": "markdown",
   "metadata": {},
   "source": [
    "## Define the distance matrix for TSP"
   ]
  },
  {
   "cell_type": "code",
   "execution_count": 17,
   "metadata": {},
   "outputs": [],
   "source": [
    "dists = [\n",
    "    [83, 81, 113, 52, 42, 73, 44, 23, 91, 105, 90, 124, 57],\n",
    "    [161, 160, 39, 89, 151, 110, 90, 99, 177, 143, 193, 100],\n",
    "    [90, 125, 82, 13, 57, 71, 123, 38, 72, 59, 82],\n",
    "    [123, 77, 81, 71, 91, 72, 64, 24, 62, 63],\n",
    "    [51, 114, 72, 54, 69, 139, 105, 155, 62],\n",
    "    [70, 25, 22, 52, 90, 56, 105, 16],\n",
    "    [45, 61, 111, 36, 61, 57, 70],\n",
    "    [23, 71, 67, 48, 85, 29],\n",
    "    [74, 89, 69, 107, 36],\n",
    "    [117, 65, 125, 43],\n",
    "    [54, 22, 84],\n",
    "    [60, 44],\n",
    "    [97],\n",
    "    [],\n",
    "]"
   ]
  },
  {
   "cell_type": "markdown",
   "metadata": {},
   "source": [
    "## Creating n and V vars"
   ]
  },
  {
   "cell_type": "code",
   "execution_count": 18,
   "metadata": {},
   "outputs": [],
   "source": [
    "n, V = len(dists), set(range(len(dists)))"
   ]
  },
  {
   "cell_type": "markdown",
   "metadata": {},
   "source": [
    "## Creating $C_{ij}$"
   ]
  },
  {
   "cell_type": "code",
   "execution_count": 19,
   "metadata": {},
   "outputs": [],
   "source": [
    "c = [\n",
    "    [0 if i == j else dists[i][j - i - 1] if j > i else dists[j][i - j - 1] for j in V]\n",
    "    for i in V\n",
    "]"
   ]
  },
  {
   "cell_type": "code",
   "execution_count": 20,
   "metadata": {},
   "outputs": [],
   "source": [
    "model = Model()"
   ]
  },
  {
   "cell_type": "markdown",
   "metadata": {},
   "source": [
    "## Creating the decision variables"
   ]
  },
  {
   "cell_type": "code",
   "execution_count": 21,
   "metadata": {},
   "outputs": [],
   "source": [
    "x = [[model.add_var(var_type=BINARY) for _ in V] for _ in V]"
   ]
  },
  {
   "cell_type": "markdown",
   "metadata": {},
   "source": [
    "## y var for subtour elimination"
   ]
  },
  {
   "cell_type": "code",
   "execution_count": 22,
   "metadata": {},
   "outputs": [],
   "source": [
    "y = [model.add_var() for _ in V]"
   ]
  },
  {
   "cell_type": "markdown",
   "metadata": {},
   "source": [
    "## Objective function"
   ]
  },
  {
   "cell_type": "code",
   "execution_count": 23,
   "metadata": {},
   "outputs": [],
   "source": [
    "model.objective = minimize(xsum(c[i][j] * x[i][j] for i in V for j in V))"
   ]
  },
  {
   "cell_type": "markdown",
   "metadata": {},
   "source": [
    "## Constraints"
   ]
  },
  {
   "cell_type": "code",
   "execution_count": 24,
   "metadata": {},
   "outputs": [],
   "source": [
    "for i in V:\n",
    "    model += xsum(x[i][j] for j in V - {i}) == 1"
   ]
  },
  {
   "cell_type": "code",
   "execution_count": 25,
   "metadata": {},
   "outputs": [],
   "source": [
    "for i in V:\n",
    "    model += xsum(x[j][i] for j in V - {i}) == 1"
   ]
  },
  {
   "cell_type": "code",
   "execution_count": 26,
   "metadata": {},
   "outputs": [],
   "source": [
    "for i, j in product(V - {0}, V - {0}):\n",
    "    if i != j:\n",
    "        model += y[i] - (n + 1) * x[i][j] >= y[j] - n"
   ]
  },
  {
   "cell_type": "code",
   "execution_count": 27,
   "metadata": {},
   "outputs": [
    {
     "name": "stdout",
     "output_type": "stream",
     "text": [
      "Starting solution of the Linear programming relaxation problem using Primal Simplex\n",
      "\n",
      "Coin0506I Presolve 184 (0) rows, 195 (-15) columns and 832 (0) elements\n",
      "Clp1000I sum of infeasibilities 8.22201e-05 - average 4.46848e-07, 124 fixed columns\n",
      "Coin0506I Presolve 182 (-2) rows, 69 (-126) columns and 474 (-358) elements\n",
      "Clp0006I 0  Obj 399.20349 Primal inf 3.3278783e-05 (22) Dual inf 2.1855024e+13 (56)\n",
      "Clp0029I End of values pass after 69 iterations\n",
      "Clp0014I Perturbing problem by 0.001% of 5.362616 - largest nonzero change 3.4125692e-05 ( 0.00073948616%) - largest zero change 1.8240846e-05\n",
      "Clp0000I Optimal - objective value 399.2\n",
      "Clp0000I Optimal - objective value 399.2\n",
      "Coin0511I After Postsolve, objective 399.2, infeasibilities - dual 0 (0), primal 0 (0)\n",
      "Clp0006I 0  Obj 399.2\n",
      "Clp0000I Optimal - objective value 399.2\n",
      "Clp0000I Optimal - objective value 399.2\n",
      "Clp0000I Optimal - objective value 399.2\n",
      "Coin0511I After Postsolve, objective 399.2, infeasibilities - dual 0 (0), primal 0 (0)\n",
      "Clp0032I Optimal objective 399.2 - 0 iterations time 0.012, Presolve 0.00, Idiot 0.01\n",
      "\n",
      "Starting MIP optimization\n",
      "Cgl0004I processed model has 184 rows, 195 columns (182 integer (182 of which binary)) and 832 elements\n",
      "Coin3009W Conflict graph built in 0.000 seconds, density: 3.103%\n",
      "Cgl0015I Clique Strengthening extended 0 cliques, 0 were dominated\n",
      "Cbc0045I Nauty did not find any useful orbits in time 0.000528\n",
      "Cbc0038I Initial state - 26 integers unsatisfied sum - 2.13333\n",
      "Cbc0038I Pass   1: suminf.    1.60000 (12) obj. 429.067 iterations 35\n",
      "Cbc0038I Pass   2: suminf.    1.60000 (6) obj. 762.6 iterations 32\n",
      "Cbc0038I Pass   3: suminf.    1.60000 (10) obj. 770.4 iterations 20\n",
      "Cbc0038I Pass   4: suminf.    1.60000 (6) obj. 783.6 iterations 22\n",
      "Cbc0038I Pass   5: suminf.    1.60000 (10) obj. 783 iterations 25\n",
      "Cbc0038I Pass   6: suminf.    1.60000 (12) obj. 948.333 iterations 68\n",
      "Cbc0038I Pass   7: suminf.    1.33333 (7) obj. 929 iterations 31\n",
      "Cbc0038I Pass   8: suminf.    1.33333 (4) obj. 878.333 iterations 44\n",
      "Cbc0038I Pass   9: suminf.    1.33333 (6) obj. 882.222 iterations 12\n",
      "Cbc0038I Pass  10: suminf.    1.33333 (10) obj. 1001.27 iterations 28\n",
      "Cbc0038I Pass  11: suminf.    1.33333 (4) obj. 1043 iterations 33\n",
      "Cbc0038I Pass  12: suminf.    1.33333 (10) obj. 1042.33 iterations 28\n",
      "Cbc0038I Pass  13: suminf.    1.33333 (10) obj. 1027.67 iterations 25\n",
      "Cbc0038I Pass  14: suminf.    1.77778 (10) obj. 909.756 iterations 62\n",
      "Cbc0038I Pass  15: suminf.    1.06667 (6) obj. 881.667 iterations 31\n",
      "Cbc0038I Pass  16: suminf.    1.06667 (6) obj. 829.6 iterations 21\n",
      "Cbc0038I Pass  17: suminf.    1.06667 (7) obj. 876.333 iterations 31\n",
      "Cbc0038I Pass  18: suminf.    1.06667 (4) obj. 885.733 iterations 23\n",
      "Cbc0038I Pass  19: suminf.    1.06667 (6) obj. 883.867 iterations 18\n",
      "Cbc0038I Pass  20: suminf.    0.00000 (0) obj. 934 iterations 55\n",
      "Cbc0038I Solution found of 934\n",
      "Cbc0038I Relaxing continuous gives 934\n",
      "Cbc0038I Before mini branch and bound, 109 integers at bound fixed and 0 continuous\n",
      "Cbc0038I Full problem 184 rows 195 columns, reduced to 183 rows 85 columns - 4 fixed gives 173, 50 - still too large\n",
      "Cbc0038I Full problem 184 rows 195 columns, reduced to 173 rows 50 columns - too large\n",
      "Cbc0038I Mini branch and bound did not improve solution (0.01 seconds)\n",
      "Cbc0038I Round again with cutoff of 879.62\n",
      "Cbc0038I Pass  21: suminf.    1.60000 (12) obj. 429.067 iterations 0\n",
      "Cbc0038I Pass  22: suminf.    1.60000 (6) obj. 762.6 iterations 47\n",
      "Cbc0038I Pass  23: suminf.    1.60000 (10) obj. 770.4 iterations 35\n",
      "Cbc0038I Pass  24: suminf.    1.60000 (6) obj. 783.6 iterations 47\n",
      "Cbc0038I Pass  25: suminf.    1.60000 (10) obj. 783 iterations 30\n",
      "Cbc0038I Pass  26: suminf.    4.69275 (14) obj. 879.62 iterations 55\n",
      "Cbc0038I Pass  27: suminf.    1.60000 (15) obj. 879.62 iterations 44\n",
      "Cbc0038I Pass  28: suminf.    1.60000 (7) obj. 846.467 iterations 55\n",
      "Cbc0038I Pass  29: suminf.    1.60000 (9) obj. 870.983 iterations 23\n",
      "Cbc0038I Pass  30: suminf.    2.00000 (10) obj. 850.467 iterations 22\n",
      "Cbc0038I Pass  31: suminf.    1.60000 (12) obj. 834.267 iterations 27\n",
      "Cbc0038I Pass  32: suminf.    1.60000 (6) obj. 852.467 iterations 55\n",
      "Cbc0038I Pass  33: suminf.    1.60000 (4) obj. 832.8 iterations 28\n",
      "Cbc0038I Pass  34: suminf.    1.60000 (7) obj. 807.4 iterations 32\n",
      "Cbc0038I Pass  35: suminf.    2.80000 (6) obj. 833.2 iterations 20\n",
      "Cbc0038I Pass  36: suminf.    1.60000 (12) obj. 818.667 iterations 43\n",
      "Cbc0038I Pass  37: suminf.    1.60000 (9) obj. 870.983 iterations 61\n",
      "Cbc0038I Pass  38: suminf.    2.00000 (10) obj. 850.467 iterations 28\n",
      "Cbc0038I Pass  39: suminf.    1.60000 (12) obj. 834.267 iterations 23\n",
      "Cbc0038I Pass  40: suminf.    1.60000 (6) obj. 852.467 iterations 55\n",
      "Cbc0038I Pass  41: suminf.    1.60000 (4) obj. 832.8 iterations 30\n",
      "Cbc0038I Pass  42: suminf.    1.60000 (7) obj. 807.4 iterations 26\n",
      "Cbc0038I Pass  43: suminf.    2.80000 (6) obj. 833.2 iterations 24\n",
      "Cbc0038I Pass  44: suminf.    1.60000 (12) obj. 818.667 iterations 34\n",
      "Cbc0038I Pass  45: suminf.    1.60000 (9) obj. 870.983 iterations 53\n",
      "Cbc0038I Pass  46: suminf.    2.00000 (10) obj. 850.467 iterations 62\n",
      "Cbc0038I Pass  47: suminf.    1.60000 (12) obj. 834.267 iterations 14\n",
      "Cbc0038I Pass  48: suminf.    1.60000 (6) obj. 852.467 iterations 56\n",
      "Cbc0038I Pass  49: suminf.    1.60000 (4) obj. 832.8 iterations 30\n",
      "Cbc0038I Pass  50: suminf.    1.60000 (7) obj. 807.4 iterations 26\n",
      "Cbc0038I No solution found this major pass\n",
      "Cbc0038I Before mini branch and bound, 128 integers at bound fixed and 1 continuous\n",
      "Cbc0038I Full problem 184 rows 195 columns, reduced to 74 rows 62 columns\n",
      "Cbc0038I Mini branch and bound did not improve solution (0.06 seconds)\n",
      "Cbc0038I After 0.06 seconds - Feasibility pump exiting with objective of 934 - took 0.06 seconds\n",
      "Cbc0012I Integer solution of 934 found by feasibility pump after 0 iterations and 0 nodes (0.06 seconds)\n",
      "Cbc0038I Full problem 184 rows 195 columns, reduced to 174 rows 42 columns - 14 fixed gives 156, 13 - still too large\n",
      "Cbc0031I 10 added rows had average density of 90.5\n",
      "Cbc0013I At root node, 10 cuts changed objective from 399.2 to 542 in 43 passes\n",
      "Cbc0014I Cut generator 0 (Probing) - 20 row cuts average 12.9 elements, 0 column cuts (0 active)  in 0.060 seconds - new frequency is -100\n",
      "Cbc0014I Cut generator 1 (Gomory) - 251 row cuts average 125.2 elements, 0 column cuts (0 active)  in 0.012 seconds - new frequency is 1\n",
      "Cbc0014I Cut generator 2 (Knapsack) - 2 row cuts average 5.5 elements, 0 column cuts (0 active)  in 0.004 seconds - new frequency is -100\n",
      "Cbc0014I Cut generator 3 (Clique) - 0 row cuts average 0.0 elements, 0 column cuts (0 active)  in 0.001 seconds - new frequency is -100\n",
      "Cbc0014I Cut generator 4 (OddWheel) - 0 row cuts average 0.0 elements, 0 column cuts (0 active)  in 0.002 seconds - new frequency is -100\n",
      "Cbc0014I Cut generator 5 (MixedIntegerRounding2) - 79 row cuts average 7.2 elements, 0 column cuts (0 active)  in 0.008 seconds - new frequency is 1\n",
      "Cbc0014I Cut generator 6 (FlowCover) - 0 row cuts average 0.0 elements, 0 column cuts (0 active)  in 0.004 seconds - new frequency is -100\n",
      "Cbc0014I Cut generator 7 (TwoMirCuts) - 174 row cuts average 46.3 elements, 0 column cuts (0 active)  in 0.006 seconds - new frequency is 1\n",
      "Cbc0010I After 0 nodes, 1 on tree, 934 best solution, best possible 542 (0.21 seconds)\n",
      "Cbc0016I Integer solution of 551 found by strong branching after 1093 iterations and 6 nodes (0.24 seconds)\n",
      "Cbc0016I Integer solution of 547 found by strong branching after 1529 iterations and 17 nodes (0.29 seconds)\n",
      "Cbc0001I Search completed - best objective 547, took 2075 iterations and 30 nodes (0.32 seconds)\n",
      "Cbc0032I Strong branching done 516 times (8468 iterations), fathomed 4 nodes and fixed 4 variables\n",
      "Cbc0035I Maximum depth 5, 147 variables fixed on reduced cost\n",
      "Total time (CPU seconds):       0.32   (Wallclock seconds):       0.33\n",
      "\n"
     ]
    },
    {
     "data": {
      "text/plain": [
       "<OptimizationStatus.OPTIMAL: 0>"
      ]
     },
     "execution_count": 27,
     "metadata": {},
     "output_type": "execute_result"
    }
   ],
   "source": [
    "model.optimize()"
   ]
  },
  {
   "cell_type": "code",
   "execution_count": 28,
   "metadata": {},
   "outputs": [
    {
     "name": "stdout",
     "output_type": "stream",
     "text": [
      "Route with total distance: 547.0 found: Antwerp\n",
      "-> Mechelen\n",
      "-> Leuven\n",
      "-> Hasselt\n",
      "-> C-Mine\n",
      "-> Montagne de Bueren\n",
      "-> Remouchamps\n",
      "-> Dinant\n",
      "-> Namur\n",
      "-> Mons\n",
      "-> Waterloo\n",
      "-> Grand-Place de Bruxelles\n",
      "-> Ghent\n",
      "-> Bruges\n",
      "-> Antwerp\n"
     ]
    }
   ],
   "source": [
    "if model.num_solutions:\n",
    "    print(f\"Route with total distance: {model.objective_value} found: {places[0]}\")\n",
    "    nc = 0\n",
    "    while True:\n",
    "        nc = [i for i in V if x[nc][i].x >= 0.99][0]\n",
    "        print(f\"-> {places[nc]}\")\n",
    "        if nc == 0:\n",
    "            break"
   ]
  }
 ],
 "metadata": {
  "kernelspec": {
   "display_name": "Python 3",
   "language": "python",
   "name": "python3"
  },
  "language_info": {
   "codemirror_mode": {
    "name": "ipython",
    "version": 3
   },
   "file_extension": ".py",
   "mimetype": "text/x-python",
   "name": "python",
   "nbconvert_exporter": "python",
   "pygments_lexer": "ipython3",
   "version": "3.10.12"
  }
 },
 "nbformat": 4,
 "nbformat_minor": 2
}
