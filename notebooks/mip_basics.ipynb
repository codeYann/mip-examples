{
 "cells": [
  {
   "cell_type": "markdown",
   "metadata": {},
   "source": [
    "## Enable mip solver"
   ]
  },
  {
   "cell_type": "code",
   "execution_count": 1,
   "metadata": {},
   "outputs": [],
   "source": [
    "from mip import *"
   ]
  },
  {
   "cell_type": "markdown",
   "metadata": {},
   "source": [
    "### Creating first model"
   ]
  },
  {
   "cell_type": "code",
   "execution_count": 2,
   "metadata": {},
   "outputs": [],
   "source": [
    "m = Model(sense=MAXIMIZE)"
   ]
  },
  {
   "cell_type": "markdown",
   "metadata": {},
   "source": [
    "## Creating the decision variables"
   ]
  },
  {
   "cell_type": "code",
   "execution_count": null,
   "metadata": {},
   "outputs": [],
   "source": [
    "x = m.add_var()\n",
    "y = m.add_var()"
   ]
  },
  {
   "cell_type": "markdown",
   "metadata": {},
   "source": [
    "## Creating constraints"
   ]
  },
  {
   "cell_type": "code",
   "execution_count": null,
   "metadata": {},
   "outputs": [],
   "source": [
    "m += 0.5*x + 0.3*y <= 3\n",
    "m += 0.1*x + 0.2*y <= 1\n",
    "m += 0.4*x + 0.5*y <= 3\n",
    "m += x >= 0\n",
    "m += y >= 0 "
   ]
  },
  {
   "cell_type": "markdown",
   "metadata": {},
   "source": [
    "## Create an objective function"
   ]
  },
  {
   "cell_type": "code",
   "execution_count": null,
   "metadata": {},
   "outputs": [],
   "source": [
    "m.objective = maximize(3*x + 2*y)"
   ]
  },
  {
   "cell_type": "code",
   "execution_count": null,
   "metadata": {},
   "outputs": [
    {
     "name": "stdout",
     "output_type": "stream",
     "text": [
      "Starting solution of the Linear programming problem using Primal Simplex\n",
      "\n",
      "Coin0506I Presolve 3 (-2) rows, 2 (0) columns and 6 (-2) elements\n",
      "Clp1000I sum of infeasibilities 1.2225e-05 - average 4.07501e-06, 0 fixed columns\n",
      "Coin0506I Presolve 3 (0) rows, 2 (0) columns and 6 (0) elements\n",
      "Clp0006I 0  Obj 18.461546 Primal inf 2.3450078e-05 (1) Dual inf 1.6e+12 (2)\n",
      "Clp0029I End of values pass after 2 iterations\n",
      "Clp0000I Optimal - objective value 18.461538\n",
      "Clp0000I Optimal - objective value 18.461538\n",
      "Clp0000I Optimal - objective value 18.461538\n",
      "Coin0511I After Postsolve, objective 18.461538, infeasibilities - dual 0 (0), primal 0 (0)\n",
      "Clp0032I Optimal objective 18.46153846 - 0 iterations time 0.002, Presolve 0.00, Idiot 0.00\n",
      "1\n"
     ]
    }
   ],
   "source": [
    "m.optimize()\n",
    "print(m.num_solutions)"
   ]
  },
  {
   "cell_type": "markdown",
   "metadata": {},
   "source": [
    "#"
   ]
  }
 ],
 "metadata": {
  "kernelspec": {
   "display_name": "Python 3",
   "language": "python",
   "name": "python3"
  },
  "language_info": {
   "codemirror_mode": {
    "name": "ipython",
    "version": 3
   },
   "file_extension": ".py",
   "mimetype": "text/x-python",
   "name": "python",
   "nbconvert_exporter": "python",
   "pygments_lexer": "ipython3",
   "version": "3.10.12"
  }
 },
 "nbformat": 4,
 "nbformat_minor": 2
}
